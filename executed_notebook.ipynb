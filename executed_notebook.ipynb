{
 "cells": [
  {
   "cell_type": "code",
   "execution_count": 1,
   "id": "f1398e86",
   "metadata": {
    "execution": {
     "iopub.execute_input": "2021-09-07T17:00:47.971267Z",
     "iopub.status.busy": "2021-09-07T17:00:47.969854Z",
     "iopub.status.idle": "2021-09-07T17:00:48.389804Z",
     "shell.execute_reply": "2021-09-07T17:00:48.389112Z"
    }
   },
   "outputs": [],
   "source": [
    "import os, uuid\n",
    "import pandas as pd\n",
    "import numpy as np"
   ]
  },
  {
   "cell_type": "code",
   "execution_count": 2,
   "id": "9d09f808",
   "metadata": {
    "execution": {
     "iopub.execute_input": "2021-09-07T17:00:48.394334Z",
     "iopub.status.busy": "2021-09-07T17:00:48.393614Z",
     "iopub.status.idle": "2021-09-07T17:00:48.395841Z",
     "shell.execute_reply": "2021-09-07T17:00:48.396404Z"
    }
   },
   "outputs": [],
   "source": [
    "file_name = os.environ.get('FILE_NAME','output.csv')"
   ]
  },
  {
   "cell_type": "code",
   "execution_count": 3,
   "id": "506ff7c9",
   "metadata": {
    "execution": {
     "iopub.execute_input": "2021-09-07T17:00:48.401829Z",
     "iopub.status.busy": "2021-09-07T17:00:48.401082Z",
     "iopub.status.idle": "2021-09-07T17:00:48.403995Z",
     "shell.execute_reply": "2021-09-07T17:00:48.404383Z"
    }
   },
   "outputs": [
    {
     "name": "stdout",
     "output_type": "stream",
     "text": [
      "Hello, World!\n",
      "My name is None\n",
      "Here's a UUID: bebdf4ac-2a59-4714-ad6c-bdb888a0e2cc\n",
      "This Vessel is named \"None\" and has an ID of None\n"
     ]
    }
   ],
   "source": [
    "print('Hello, World!')\n",
    "print(f'My name is {os.environ.get(\"NAME\")}')\n",
    "print(f'Here\\'s a UUID: {(uuid.uuid4())}')\n",
    "print(f'''This Vessel is named \"{os.environ.get(\"SHIPYARD_VESSEL_NAME\")}\" \\\n",
    "and has an ID of {os.environ.get(\"SHIPYARD_VESSEL_ID\")}''')"
   ]
  },
  {
   "cell_type": "code",
   "execution_count": 4,
   "id": "7c855c13",
   "metadata": {
    "execution": {
     "iopub.execute_input": "2021-09-07T17:00:48.408985Z",
     "iopub.status.busy": "2021-09-07T17:00:48.408310Z",
     "iopub.status.idle": "2021-09-07T17:00:48.551146Z",
     "shell.execute_reply": "2021-09-07T17:00:48.551511Z"
    }
   },
   "outputs": [],
   "source": [
    "df = pd.DataFrame(np.random.randint(1,100,size=(100000,4)),columns=list('ABCD'))\n",
    "df.to_csv(file_name)"
   ]
  },
  {
   "cell_type": "code",
   "execution_count": 5,
   "id": "9ecf9490",
   "metadata": {
    "execution": {
     "iopub.execute_input": "2021-09-07T17:00:48.556178Z",
     "iopub.status.busy": "2021-09-07T17:00:48.555543Z",
     "iopub.status.idle": "2021-09-07T17:00:48.560674Z",
     "shell.execute_reply": "2021-09-07T17:00:48.561180Z"
    }
   },
   "outputs": [
    {
     "name": "stdout",
     "output_type": "stream",
     "text": [
      "File successfully created at output.csv\n",
      "        A   B   C   D\n",
      "0      56  90  50  59\n",
      "1      36  28  65  44\n",
      "2      97  75  31   8\n",
      "3      83  19  68  40\n",
      "4      46  62  32  78\n",
      "...    ..  ..  ..  ..\n",
      "99995  47  35  66  63\n",
      "99996  80  28  89  28\n",
      "99997  49  43  48  13\n",
      "99998  38  77  38  19\n",
      "99999  26  47  74  10\n",
      "\n",
      "[100000 rows x 4 columns]\n"
     ]
    }
   ],
   "source": [
    "print(f'File successfully created at {file_name}')\n",
    "print(df)"
   ]
  },
  {
   "cell_type": "code",
   "execution_count": null,
   "id": "64ac2a0f",
   "metadata": {},
   "outputs": [],
   "source": []
  }
 ],
 "metadata": {
  "kernelspec": {
   "display_name": "Python 3 (ipykernel)",
   "language": "python",
   "name": "python3"
  },
  "language_info": {
   "codemirror_mode": {
    "name": "ipython",
    "version": 3
   },
   "file_extension": ".py",
   "mimetype": "text/x-python",
   "name": "python",
   "nbconvert_exporter": "python",
   "pygments_lexer": "ipython3",
   "version": "3.9.5"
  }
 },
 "nbformat": 4,
 "nbformat_minor": 5
}
