{
 "cells": [
  {
   "cell_type": "code",
   "execution_count": 1,
   "id": "f1398e86",
   "metadata": {
    "execution": {
     "iopub.execute_input": "2021-09-07T16:27:53.106875Z",
     "iopub.status.busy": "2021-09-07T16:27:53.105882Z",
     "iopub.status.idle": "2021-09-07T16:27:53.375739Z",
     "shell.execute_reply": "2021-09-07T16:27:53.376122Z"
    }
   },
   "outputs": [],
   "source": [
    "import os, uuid\n",
    "import pandas as pd\n",
    "import numpy as np"
   ]
  },
  {
   "cell_type": "code",
   "execution_count": 2,
   "id": "9d09f808",
   "metadata": {
    "execution": {
     "iopub.execute_input": "2021-09-07T16:27:53.383766Z",
     "iopub.status.busy": "2021-09-07T16:27:53.383028Z",
     "iopub.status.idle": "2021-09-07T16:27:53.384374Z",
     "shell.execute_reply": "2021-09-07T16:27:53.384726Z"
    }
   },
   "outputs": [],
   "source": [
    "file_name = os.environ.get('FILE_NAME','output.csv')"
   ]
  },
  {
   "cell_type": "code",
   "execution_count": 3,
   "id": "506ff7c9",
   "metadata": {
    "execution": {
     "iopub.execute_input": "2021-09-07T16:27:53.390749Z",
     "iopub.status.busy": "2021-09-07T16:27:53.390258Z",
     "iopub.status.idle": "2021-09-07T16:27:53.393787Z",
     "shell.execute_reply": "2021-09-07T16:27:53.394498Z"
    }
   },
   "outputs": [
    {
     "name": "stdout",
     "output_type": "stream",
     "text": [
      "Hello, World!\n",
      "My name is None\n",
      "Here's a UUID: 96bc623d-ea54-4d78-81de-2ca429132eea\n",
      "This Vessel is named \"None\" and has an ID of None\n"
     ]
    }
   ],
   "source": [
    "print('Hello, World!')\n",
    "print(f'My name is {os.environ.get(\"NAME\")}')\n",
    "print(f'Here\\'s a UUID: {(uuid.uuid4())}')\n",
    "print(f'''This Vessel is named \"{os.environ.get(\"SHIPYARD_VESSEL_NAME\")}\" \\\n",
    "and has an ID of {os.environ.get(\"SHIPYARD_VESSEL_ID\")}''')"
   ]
  },
  {
   "cell_type": "code",
   "execution_count": 4,
   "id": "7c855c13",
   "metadata": {
    "execution": {
     "iopub.execute_input": "2021-09-07T16:27:53.398444Z",
     "iopub.status.busy": "2021-09-07T16:27:53.397947Z",
     "iopub.status.idle": "2021-09-07T16:27:53.537953Z",
     "shell.execute_reply": "2021-09-07T16:27:53.538360Z"
    }
   },
   "outputs": [],
   "source": [
    "df = pd.DataFrame(np.random.randint(1,100,size=(100000,4)),columns=list('ABCD'))\n",
    "df.to_csv(file_name)"
   ]
  },
  {
   "cell_type": "code",
   "execution_count": 5,
   "id": "9ecf9490",
   "metadata": {
    "execution": {
     "iopub.execute_input": "2021-09-07T16:27:53.542933Z",
     "iopub.status.busy": "2021-09-07T16:27:53.542294Z",
     "iopub.status.idle": "2021-09-07T16:27:53.546718Z",
     "shell.execute_reply": "2021-09-07T16:27:53.547210Z"
    }
   },
   "outputs": [
    {
     "name": "stdout",
     "output_type": "stream",
     "text": [
      "File successfully created at output.csv\n",
      "        A   B   C   D\n",
      "0      87  25  53  48\n",
      "1      86  45  26  33\n",
      "2      97  78  87  26\n",
      "3      43  29   9  40\n",
      "4      50  60  44  39\n",
      "...    ..  ..  ..  ..\n",
      "99995  97  25  41  38\n",
      "99996  48  90  52  96\n",
      "99997  74  37  97  23\n",
      "99998  49  94  56  95\n",
      "99999  54  92  66  52\n",
      "\n",
      "[100000 rows x 4 columns]\n"
     ]
    }
   ],
   "source": [
    "print(f'File successfully created at {file_name}')\n",
    "print(df)"
   ]
  },
  {
   "cell_type": "code",
   "execution_count": null,
   "id": "64ac2a0f",
   "metadata": {},
   "outputs": [],
   "source": []
  }
 ],
 "metadata": {
  "kernelspec": {
   "display_name": "Python 3 (ipykernel)",
   "language": "python",
   "name": "python3"
  },
  "language_info": {
   "codemirror_mode": {
    "name": "ipython",
    "version": 3
   },
   "file_extension": ".py",
   "mimetype": "text/x-python",
   "name": "python",
   "nbconvert_exporter": "python",
   "pygments_lexer": "ipython3",
   "version": "3.9.5"
  }
 },
 "nbformat": 4,
 "nbformat_minor": 5
}
